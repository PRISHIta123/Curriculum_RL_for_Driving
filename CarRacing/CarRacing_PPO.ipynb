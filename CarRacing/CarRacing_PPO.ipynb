{
 "cells": [
  {
   "cell_type": "markdown",
   "id": "336ca60d",
   "metadata": {},
   "source": [
    "**1. Import Dependencies**"
   ]
  },
  {
   "cell_type": "code",
   "execution_count": null,
   "id": "3696ab60",
   "metadata": {
    "scrolled": false
   },
   "outputs": [],
   "source": [
    "import os\n",
    "import numpy as np\n",
    "import pandas as pd\n",
    "import time"
   ]
  },
  {
   "cell_type": "code",
   "execution_count": null,
   "id": "63dc7923",
   "metadata": {
    "scrolled": false
   },
   "outputs": [],
   "source": [
    "import gym\n",
    "from stable_baselines3 import PPO      #PPO -> Proximal Policy Optimization\n",
    "from stable_baselines3.common.vec_env import DummyVecEnv\n",
    "from stable_baselines3.common.evaluation import evaluate_policy  #to evaluate the model \n",
    "from stable_baselines3.common.callbacks import EvalCallback"
   ]
  },
  {
   "cell_type": "code",
   "execution_count": null,
   "id": "108dda65",
   "metadata": {
    "scrolled": false
   },
   "outputs": [],
   "source": [
    "from pyvirtualdisplay import Display\n",
    "display = Display(visible=0, size=(1024, 768))\n",
    "display.start()\n",
    "\n",
    "\n",
    "from matplotlib import pyplot as plt, animation\n",
    "%matplotlib inline\n",
    "from IPython import display\n",
    "\n",
    "def create_anim(frames, dpi, fps):\n",
    "    plt.figure(figsize=(frames[0].shape[1] / dpi, frames[0].shape[0] / dpi), dpi=dpi)\n",
    "    patch = plt.imshow(frames[0])\n",
    "    def setup():\n",
    "        plt.axis('off')\n",
    "    def animate(i):\n",
    "        patch.set_data(frames[i])\n",
    "    anim = animation.FuncAnimation(plt.gcf(), animate, init_func=setup, frames=len(frames), interval=fps)\n",
    "    return anim\n",
    "\n",
    "def display_anim(frames, dpi=72, fps=60):\n",
    "    anim = create_anim(frames, dpi, fps)\n",
    "    return anim.to_jshtml()\n",
    "\n",
    "def save_anim(frames, filename, dpi=72, fps=50):\n",
    "    anim = create_anim(frames, dpi, fps)\n",
    "    anim.save(filename)\n",
    "\n",
    "\n",
    "class trigger:\n",
    "    def __init__(self):\n",
    "        self._trigger = True\n",
    "\n",
    "    def __call__(self, e):\n",
    "        return self._trigger\n",
    "\n",
    "    def set(self, t):\n",
    "        self._trigger = t"
   ]
  },
  {
   "cell_type": "markdown",
   "id": "f2e02a8d",
   "metadata": {},
   "source": [
    "**2.Train Environment**"
   ]
  },
  {
   "cell_type": "code",
   "execution_count": null,
   "id": "a6b14c40",
   "metadata": {
    "scrolled": false
   },
   "outputs": [],
   "source": [
    "# Default environment\n",
    "# environment_name = 'CarRacing-v0'    \n",
    "# env = gym.make(environment_name)\n",
    "# eval_env= env\n",
    "\n",
    "# Curriculum environment\n",
    "# from gym.wrappers.time_limit import TimeLimit\n",
    "# from TurnRates.car_racing_curriculum import CarRacingCurriculum\n",
    "# env = TimeLimit(CarRacingCurriculum(),max_episode_steps=1000)\n",
    "\n",
    "# Evaluation environment\n",
    "# from gym.wrappers.time_limit import TimeLimit\n",
    "# from TurnRates.car_racing_eval import CarRacingEval\n",
    "# eval_env = TimeLimit(CarRacingEval(),max_episode_steps=1000)\n",
    "\n",
    "# Default obstacles environment\n",
    "# from gym.wrappers.time_limit import TimeLimit\n",
    "# from car_racing_obstacles import CarRacingObstacles\n",
    "# env = TimeLimit(CarRacingObstacles(),max_episode_steps=1000)\n",
    "# eval_env= env\n",
    "\n",
    "# Curriculum obstacles environment\n",
    "# from gym.wrappers.time_limit import TimeLimit\n",
    "# from Obstacles.car_racing_obstacles_curriculum import CarRacingObstaclesCurriculum\n",
    "# env = TimeLimit(CarRacingObstaclesCurriculum(),max_episode_steps=1000)\n",
    "\n",
    "# Obstacles Evaluation environment\n",
    "# from gym.wrappers.time_limit import TimeLimit\n",
    "# from Obstacles.car_racing_obstacles_eval import CarRacingObstaclesEval\n",
    "# eval_env = TimeLimit(CarRacingObstaclesEval(),max_episode_steps=1000)\n",
    "\n",
    "# Curriculum both environment\n",
    "# from gym.wrappers.time_limit import TimeLimit\n",
    "# from Both.car_racing_obstacles_curriculum_both import CarRacingObstaclesCurriculumBoth\n",
    "# env = TimeLimit(CarRacingObstaclesCurriculumBoth(),max_episode_steps=1000)\n",
    "\n",
    "# Evaluation both environment\n",
    "# from gym.wrappers.time_limit import TimeLimit\n",
    "# from Both.car_racing_obstacles_eval_both import CarRacingObstaclesEvalBoth\n",
    "# eval_env = TimeLimit(CarRacingObstaclesEvalBoth(),max_episode_steps=1000)\n"
   ]
  },
  {
   "cell_type": "markdown",
   "id": "f17c289c",
   "metadata": {},
   "source": [
    "**3.Training Model**"
   ]
  },
  {
   "cell_type": "code",
   "execution_count": null,
   "id": "028e8252",
   "metadata": {
    "scrolled": false
   },
   "outputs": [],
   "source": [
    "seed=0"
   ]
  },
  {
   "cell_type": "code",
   "execution_count": null,
   "id": "dd13e99c",
   "metadata": {
    "scrolled": true
   },
   "outputs": [],
   "source": [
    "log_path = os.path.join('./runs')\n",
    "\n",
    "# Learning Rates: \n",
    "# 0.0005- PPO Default, 0.00025- PPO Curriculum\n",
    "# 0.0005- PPO Obstacles, 0.000475- PPO Obstacles Curriculum\n",
    "# 0.0002- PPO Both Curriculum\n",
    "\n",
    "model = PPO('CnnPolicy', env, learning_rate=0.000475, n_steps=1000, batch_size=1000, verbose=0, seed=0, tensorboard_log=log_path)\n",
    "ppo_path = os.path.join('./Training/Saved_Models/PPO_car_best_Model_curriculum_obstacles1')\n",
    "\n",
    "eval_callback = EvalCallback(eval_env=eval_env, best_model_save_path=ppo_path,\n",
    "                              n_eval_episodes=10,\n",
    "                             eval_freq=50000,verbose=1,\n",
    "                             deterministic=True, render=False)\n",
    "model.learn(total_timesteps=1000000,callback=eval_callback)\n",
    "ppo_path = os.path.join('./Training/Saved_Models/PPO_Model_final_curriculum_obstacles1.zip')\n",
    "model.save(ppo_path)"
   ]
  },
  {
   "cell_type": "markdown",
   "id": "34b24f5c",
   "metadata": {},
   "source": [
    "**4.Evaluating Models**- Best Model"
   ]
  },
  {
   "cell_type": "code",
   "execution_count": null,
   "id": "cd500cf4",
   "metadata": {
    "scrolled": false
   },
   "outputs": [],
   "source": [
    "ppo_path = os.path.join('./Training/Saved_Models/PPO_car_best_Model_curriculum_both/best_model.zip')"
   ]
  },
  {
   "cell_type": "code",
   "execution_count": null,
   "id": "31709fa3",
   "metadata": {
    "scrolled": true
   },
   "outputs": [],
   "source": [
    "best_model = PPO.load(ppo_path, env=eval_env)"
   ]
  },
  {
   "cell_type": "code",
   "execution_count": null,
   "id": "cb43d45b",
   "metadata": {
    "scrolled": true
   },
   "outputs": [],
   "source": [
    "evalue = evaluate_policy(best_model, eval_env, n_eval_episodes=500, render = False)\n",
    "eval_env.close()\n",
    "evalue"
   ]
  },
  {
   "cell_type": "code",
   "execution_count": null,
   "id": "b1dae3c3",
   "metadata": {},
   "outputs": [],
   "source": [
    "def check_if_car_on_grass(car):\n",
    "    \"\"\"\n",
    "    Checks to see if car is on the grass, which is the case if all of the car's wheels\n",
    "    is not in contact with any tiles (i.e. the car is not in contact with any road or obstacle tiles).\n",
    "    Note that in some cases, even if one of the wheels is grazing the grass,\n",
    "    the car may not be considered to be on the grass if that wheel is still in contact with a road or obstacle tile.\n",
    "    (so there is a \"buffer region\" around the road where the car is not considered to be on the grass).\n",
    "    Args:\n",
    "        car (car_racing.Car)\n",
    "    Return:\n",
    "        true if car is on the grass, false otherwise\n",
    "    \"\"\"\n",
    "    cnt=0\n",
    "    \n",
    "    for w in car.wheels:\n",
    "        if len(w.tiles)==0:\n",
    "            cnt+=1\n",
    "            # wheel is on the grass (not in contact with any tiles, either road or obstacle)\n",
    "    if cnt==4:\n",
    "        return True\n",
    "    else:\n",
    "        return False"
   ]
  },
  {
   "cell_type": "code",
   "execution_count": null,
   "id": "abdffecc",
   "metadata": {
    "scrolled": true
   },
   "outputs": [],
   "source": [
    "# To calculate number of tiles covered, time taken and average proportion of time spent on grass in default environment\n",
    "\n",
    "episodes = 500\n",
    "frames = []\n",
    "\n",
    "grass_ratios=0\n",
    "tiles=0\n",
    "times=0\n",
    "\n",
    "for episode in range(1, episodes+1):\n",
    "    obs = eval_env.reset()  #state = env.reset()\n",
    "    done = False\n",
    "    score = 0\n",
    "    total_road_or_obstacle_timesteps = 0\n",
    "    total_grass_timesteps = 0\n",
    "    \n",
    "    info={}\n",
    "    \n",
    "    while not done:\n",
    "        \n",
    "        # Check if car is on the grass\n",
    "        if check_if_car_on_grass(eval_env.car):\n",
    "            total_grass_timesteps += 1\n",
    "        else:\n",
    "            total_road_or_obstacle_timesteps += 1\n",
    "                \n",
    "        # frames.append(env.render(mode='rgb_array'))\n",
    "        action , _ = best_model.predict(obs.copy()) \n",
    "        obs, reward, done, info = eval_env.step(action) \n",
    "        score += reward\n",
    "    \n",
    "    tiles+=eval_env.tile_visited_count\n",
    "    times+=eval_env.t\n",
    "    grass_ratios+=total_grass_timesteps/(total_grass_timesteps+total_road_or_obstacle_timesteps)\n",
    "    \n",
    "    print(\"Episode:{} Score:{}\".format(episode,score))\n",
    "    \n",
    "print(\"Number of tiles:\",tiles/500)\n",
    "print(\"Time taken:\",times/500)\n",
    "print(\"Proportion of time spent on grass:\",grass_ratios/500)\n",
    "eval_env.close()"
   ]
  },
  {
   "cell_type": "code",
   "execution_count": null,
   "id": "5c8c8702",
   "metadata": {
    "scrolled": true
   },
   "outputs": [],
   "source": [
    "# To calculate number of tiles covered, time taken, collision/obstacle ratio and average proportion of time spent on grass in obstacle variant environment\n",
    "\n",
    "episodes = 500\n",
    "frames = []\n",
    "\n",
    "ratios=0\n",
    "grass_ratios=0\n",
    "tiles=0\n",
    "times=0\n",
    "\n",
    "for episode in range(1, episodes+1):\n",
    "    obs = eval_env.reset()  #state = env.reset()\n",
    "    done = False\n",
    "    score = 0\n",
    "    total_road_or_obstacle_timesteps = 0\n",
    "    total_grass_timesteps = 0\n",
    "    \n",
    "    info={}\n",
    "    \n",
    "    while not done:\n",
    "        \n",
    "        # Check if car is on the grass\n",
    "        if check_if_car_on_grass(eval_env.car):\n",
    "            total_grass_timesteps += 1\n",
    "        else:\n",
    "            total_road_or_obstacle_timesteps += 1\n",
    "            \n",
    "        # frames.append(env.render(mode='rgb_array'))\n",
    "        action , _ = best_model.predict(obs.copy()) \n",
    "        obs, reward, done, info = eval_env.step(action) \n",
    "        score += reward\n",
    "    \n",
    "    tiles+=eval_env.tile_visited_count\n",
    "    times+=eval_env.t\n",
    "    ratios+=info['num_collisions']/info['num_obstacles']\n",
    "    grass_ratios+=total_grass_timesteps/(total_grass_timesteps+total_road_or_obstacle_timesteps)\n",
    "\n",
    "    print(\"Episode:{} Score:{}\".format(episode,score))\n",
    "    \n",
    "print(\"Number of tiles:\",tiles/500)\n",
    "print(\"Time taken:\",times/500)\n",
    "print(\"Ratio:\",ratios/500)\n",
    "print(\"Proportion of time spent on grass:\",grass_ratios/500)\n",
    "eval_env.close()"
   ]
  },
  {
   "cell_type": "code",
   "execution_count": null,
   "id": "18e8ef85",
   "metadata": {
    "scrolled": true
   },
   "outputs": [],
   "source": []
  },
  {
   "cell_type": "code",
   "execution_count": null,
   "id": "785b3e68",
   "metadata": {
    "scrolled": true
   },
   "outputs": [],
   "source": []
  }
 ],
 "metadata": {
  "kernelspec": {
   "display_name": "Python 3 (ipykernel)",
   "language": "python",
   "name": "python3"
  },
  "language_info": {
   "codemirror_mode": {
    "name": "ipython",
    "version": 3
   },
   "file_extension": ".py",
   "mimetype": "text/x-python",
   "name": "python",
   "nbconvert_exporter": "python",
   "pygments_lexer": "ipython3",
   "version": "3.9.12"
  }
 },
 "nbformat": 4,
 "nbformat_minor": 5
}
